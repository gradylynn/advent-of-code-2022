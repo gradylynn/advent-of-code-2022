{
 "cells": [
  {
   "cell_type": "markdown",
   "metadata": {},
   "source": [
    "Day 1 (https://adventofcode.com/2022/day/1)"
   ]
  },
  {
   "cell_type": "code",
   "execution_count": 1,
   "metadata": {},
   "outputs": [
    {
     "name": "stdout",
     "output_type": "stream",
     "text": [
      "Day 1 Part 1 Answer: 69836\n",
      "Day 1 Part 2 Answer: 207968\n"
     ]
    }
   ],
   "source": [
    "with open('inputs/day1.txt', 'r') as f:\n",
    "    # a list of the number of calories carried by each elf\n",
    "    l = [sum([int(n) for n in s.split('\\n')]) for s in f.read().split('\\n\\n')]\n",
    "\n",
    "    # the answer to part 1\n",
    "    print(f'Day 1 Part 1 Answer: {max(l)}')\n",
    "\n",
    "    # the answer to part 2\n",
    "    print(f'Day 1 Part 2 Answer: {sum(sorted(l)[-3:])}')"
   ]
  },
  {
   "cell_type": "markdown",
   "metadata": {},
   "source": [
    "Day 2 (https://adventofcode.com/2022/day/2)"
   ]
  },
  {
   "cell_type": "code",
   "execution_count": 2,
   "metadata": {},
   "outputs": [
    {
     "name": "stdout",
     "output_type": "stream",
     "text": [
      "Day 2 Part 1 Answer: 13924\n",
      "Day 2 Part 2 Answer: 13448\n"
     ]
    }
   ],
   "source": [
    "with open('inputs/day2.txt', 'r') as f:\n",
    "    # the strategy guide - converted to index values\n",
    "    their_letters = ['A', 'B', 'C']\n",
    "    my_letters = ['X', 'Y', 'Z']\n",
    "    l = [[their_letters.index(s[0]), my_letters.index(s[-1])] for s in f.read().split('\\n')]\n",
    "\n",
    "    # the answer to part 1\n",
    "    selection_score = sum([x[1] + 1 for x in l])\n",
    "    outcome_score = sum([6 if (x[0] + 1) % 3 == x[1] else 3 if x[0] == x[1] else 0 for x in l])\n",
    "    print(f'Day 2 Part 1 Answer: {selection_score + outcome_score}')\n",
    "\n",
    "    # the answer to part 2: decrypt and recalculate\n",
    "    l = [[x[0], (x[0] - 1) % 3] if x[1] == 0 else [x[0], x[0]] if x[1] == 1 else [x[0], (x[0] + 1) % 3] for x in l]\n",
    "    selection_score = sum([x[1] + 1 for x in l])\n",
    "    outcome_score = sum([6 if (x[0] + 1) % 3 == x[1] else 3 if x[0] == x[1] else 0 for x in l])\n",
    "    print(f'Day 2 Part 2 Answer: {selection_score + outcome_score}')"
   ]
  },
  {
   "cell_type": "code",
   "execution_count": null,
   "metadata": {},
   "outputs": [],
   "source": []
  }
 ],
 "metadata": {
  "kernelspec": {
   "display_name": "Python 3.8.8 ('base')",
   "language": "python",
   "name": "python3"
  },
  "language_info": {
   "codemirror_mode": {
    "name": "ipython",
    "version": 3
   },
   "file_extension": ".py",
   "mimetype": "text/x-python",
   "name": "python",
   "nbconvert_exporter": "python",
   "pygments_lexer": "ipython3",
   "version": "3.8.8"
  },
  "orig_nbformat": 4,
  "vscode": {
   "interpreter": {
    "hash": "40d3a090f54c6569ab1632332b64b2c03c39dcf918b08424e98f38b5ae0af88f"
   }
  }
 },
 "nbformat": 4,
 "nbformat_minor": 2
}
