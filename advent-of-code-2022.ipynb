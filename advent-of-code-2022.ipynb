{
 "cells": [
  {
   "cell_type": "markdown",
   "metadata": {},
   "source": [
    "Day 1 (https://adventofcode.com/2022/day/1)"
   ]
  },
  {
   "cell_type": "code",
   "execution_count": 1,
   "metadata": {},
   "outputs": [
    {
     "name": "stdout",
     "output_type": "stream",
     "text": [
      "Day 1 Part 1 Answer: 69836\n",
      "Day 1 Part 2 Answer: 207968\n"
     ]
    }
   ],
   "source": [
    "with open('inputs/day1.txt', 'r') as f:\n",
    "    # a list of the number of calories carried by each elf\n",
    "    l = [sum([int(n) for n in s.split('\\n')]) for s in f.read().split('\\n\\n')]\n",
    "\n",
    "    # the answer to part 1\n",
    "    print(f'Day 1 Part 1 Answer: {max(l)}')\n",
    "\n",
    "    # the answer to part 2\n",
    "    print(f'Day 1 Part 2 Answer: {sum(sorted(l)[-3:])}')"
   ]
  },
  {
   "cell_type": "markdown",
   "metadata": {},
   "source": [
    "Day 2 (https://adventofcode.com/2022/day/2)"
   ]
  },
  {
   "cell_type": "code",
   "execution_count": 2,
   "metadata": {},
   "outputs": [
    {
     "name": "stdout",
     "output_type": "stream",
     "text": [
      "Day 2 Part 1 Answer: 13924\n",
      "Day 2 Part 2 Answer: 13448\n"
     ]
    }
   ],
   "source": [
    "with open('inputs/day2.txt', 'r') as f:\n",
    "    # the strategy guide - converted to index values\n",
    "    their_letters = ['A', 'B', 'C']\n",
    "    my_letters = ['X', 'Y', 'Z']\n",
    "    l = [[their_letters.index(s[0]), my_letters.index(s[-1])] for s in f.read().split('\\n')]\n",
    "\n",
    "    # the answer to part 1\n",
    "    selection_score = sum([x[1] + 1 for x in l])\n",
    "    outcome_score = sum([6 if (x[0] + 1) % 3 == x[1] else 3 if x[0] == x[1] else 0 for x in l])\n",
    "    print(f'Day 2 Part 1 Answer: {selection_score + outcome_score}')\n",
    "\n",
    "    # the answer to part 2: decrypt and recalculate\n",
    "    l = [[x[0], (x[0] - 1) % 3] if x[1] == 0 else [x[0], x[0]] if x[1] == 1 else [x[0], (x[0] + 1) % 3] for x in l]\n",
    "    selection_score = sum([x[1] + 1 for x in l])\n",
    "    outcome_score = sum([6 if (x[0] + 1) % 3 == x[1] else 3 if x[0] == x[1] else 0 for x in l])\n",
    "    print(f'Day 2 Part 2 Answer: {selection_score + outcome_score}')"
   ]
  },
  {
   "cell_type": "markdown",
   "metadata": {},
   "source": [
    "Day 3 (https://adventofcode.com/2022/day/3)"
   ]
  },
  {
   "cell_type": "code",
   "execution_count": 3,
   "metadata": {},
   "outputs": [
    {
     "name": "stdout",
     "output_type": "stream",
     "text": [
      "Day 3 Part 1 Answer: 7826\n",
      "Day 3 Part 2 Answer: 2577\n"
     ]
    }
   ],
   "source": [
    "letters = 'abcdefghijklmnopqrstuvwxyzABCDEFGHIJKLMNOPQRSTUVWXYZ'\n",
    "with open('inputs/day3.txt', 'r') as f:\n",
    "    lines = f.read().split('\\n')\n",
    "\n",
    "    # the answer to part 1: list of intersected letters\n",
    "    l = [next(iter(set(c[:len(c)//2]).intersection(set(c[len(c)//2:])))) for c in lines]\n",
    "    print(f'Day 3 Part 1 Answer: {sum([letters.index(x) + 1 for x in l])}')\n",
    "\n",
    "    # the answer to part 2: list of lists of groups' bags' contents\n",
    "    l = [lines[3*i:3*i+3] for i in range(100)]\n",
    "    badges = [next(iter(set(x[0]).intersection(set(x[1]), set(x[2])))) for x in l]\n",
    "    print(f'Day 3 Part 2 Answer: {sum([letters.index(x) + 1 for x in badges])}')"
   ]
  },
  {
   "cell_type": "markdown",
   "metadata": {},
   "source": [
    "Day 4 (https://adventofcode.com/2022/day/4)"
   ]
  },
  {
   "cell_type": "code",
   "execution_count": 4,
   "metadata": {},
   "outputs": [
    {
     "name": "stdout",
     "output_type": "stream",
     "text": [
      "Day 4 Part 1 Answer: 657\n",
      "Day 4 Part 2 Answer: 938\n"
     ]
    }
   ],
   "source": [
    "with open('inputs/day4.txt', 'r') as f:\n",
    "    # a list of pairs of sets of sections\n",
    "    sets = [(set(range(int(line.split(',')[0].split('-')[0]), int(line.split(',')[0].split('-')[1])+1)), set(range(int(line.split(',')[1].split('-')[0]), int(line.split(',')[1].split('-')[1])+1))) for line in f.read().split('\\n')]\n",
    "    \n",
    "    # the answer to part 1: check for subsets\n",
    "    print(f'Day 4 Part 1 Answer: {sum([x[0].issubset(x[1]) or x[1].issubset(x[0]) for x in sets])}')\n",
    "\n",
    "    # the answer to part 2: check for non-empty intersections\n",
    "    print(f'Day 4 Part 2 Answer: {sum([len(x[0].intersection(x[1])) > 0 for x in sets])}')"
   ]
  },
  {
   "cell_type": "markdown",
   "metadata": {},
   "source": [
    "Day 5 (https://adventofcode.com/2022/day/5)"
   ]
  },
  {
   "cell_type": "code",
   "execution_count": 5,
   "metadata": {},
   "outputs": [
    {
     "name": "stdout",
     "output_type": "stream",
     "text": [
      "Day 5 Part 1 Answer: FCVRLMVQP\n",
      "Day 5 Part 2 Answer: RWLWGJGFD\n"
     ]
    }
   ],
   "source": [
    "import re\n",
    "from copy import deepcopy\n",
    "\n",
    "with open('inputs/day5.txt', 'r') as f:\n",
    "    crates, procedure = f.read().split('\\n\\n')\n",
    "\n",
    "    # initialize stacks\n",
    "    init_stacks = [[] for i in range(9)]\n",
    "    for line in crates.split('\\n')[:-1][::-1]:\n",
    "        for i in range(len(init_stacks)):\n",
    "            crate = line[1+4*i:2+4*i]\n",
    "            if crate != ' ':\n",
    "                init_stacks[i].append(crate)\n",
    "\n",
    "    # run procedure on stacks\n",
    "    stacks = deepcopy(init_stacks)\n",
    "    for line in procedure.split('\\n'):\n",
    "        n, source, dest = re.findall('[0-9]+', line)\n",
    "        for i in range(int(n)):\n",
    "            stacks[int(dest)-1].append(stacks[int(source)-1].pop())\n",
    "\n",
    "    # the answer to part 1\n",
    "    print(f'Day 5 Part 1 Answer: {\"\".join((stack[-1] for stack in stacks))}')\n",
    "\n",
    "    # rerun procedure on stacks\n",
    "    stacks = deepcopy(init_stacks)\n",
    "    for line in procedure.split('\\n'):\n",
    "        n, source, dest = re.findall('[0-9]+', line)\n",
    "        stacks[int(dest)-1] += stacks[int(source)-1][-int(n):]\n",
    "        stacks[int(source)-1] = stacks[int(source)-1][:-int(n)]\n",
    "\n",
    "    # the answer to part 2\n",
    "    print(f'Day 5 Part 2 Answer: {\"\".join((stack[-1] for stack in stacks))}')"
   ]
  },
  {
   "cell_type": "markdown",
   "metadata": {},
   "source": [
    "Day 6 (https://adventofcode.com/2022/day/6)"
   ]
  },
  {
   "cell_type": "code",
   "execution_count": 6,
   "metadata": {},
   "outputs": [
    {
     "name": "stdout",
     "output_type": "stream",
     "text": [
      "Day 6 Part 1 Answer: 1542\n",
      "Day 6 Part 2 Answer: 3153\n"
     ]
    }
   ],
   "source": [
    "with open('inputs/day6.txt', 'r') as f:\n",
    "    msg = f.read()\n",
    "\n",
    "    # the answer to part 1\n",
    "    print(f'Day 6 Part 1 Answer: {[i + 4  for i in range(len(msg)) if len(set(msg[i:i+4])) == 4][0]}')\n",
    "\n",
    "    # the answer to part 2\n",
    "    print(f'Day 6 Part 2 Answer: {[i + 14  for i in range(len(msg)) if len(set(msg[i:i+14])) == 14][0]}')"
   ]
  },
  {
   "cell_type": "markdown",
   "metadata": {},
   "source": [
    "Day 7 (https://adventofcode.com/2022/day/7)"
   ]
  },
  {
   "cell_type": "code",
   "execution_count": 7,
   "metadata": {},
   "outputs": [
    {
     "name": "stdout",
     "output_type": "stream",
     "text": [
      "Day 7 Part 1 Answer: 1667443\n",
      "Day 7 Part 2 Answer: 8998590\n"
     ]
    }
   ],
   "source": [
    "with open('inputs/day7.txt', 'r') as f:\n",
    "    msg = f.read()\n",
    "    \n",
    "    # iterrating through the commands to build a dict representing the files\n",
    "    current_path = []\n",
    "    files = {}\n",
    "\n",
    "    def get_files_dict(current_path):\n",
    "        d = files\n",
    "        for k in current_path:\n",
    "            d = d[k]\n",
    "        return d\n",
    "\n",
    "    cmds = msg.split('$ ')[2:]\n",
    "\n",
    "    for cmd in cmds:\n",
    "        if cmd == 'cd ..\\n':\n",
    "            current_path.pop()\n",
    "        elif cmd[:2] == 'cd':\n",
    "            current_path.append(cmd[3:-1])\n",
    "        elif cmd[:2] == 'ls':\n",
    "            for item in cmd.split('\\n')[1:-1]:\n",
    "                if item[:3] == 'dir':\n",
    "                    get_files_dict(current_path)[item[4:]] = {}\n",
    "                else:\n",
    "                    get_files_dict(current_path)[item.split(' ')[1]] = int(item.split(' ')[0])\n",
    "\n",
    "    # here's a function the calculates the size of a directory\n",
    "    def get_dir_size(dir):\n",
    "        size = 0\n",
    "        for k in dir:\n",
    "            if type(dir[k]) == dict:\n",
    "                size += get_dir_size(dir[k])\n",
    "            else:\n",
    "                size += dir[k]\n",
    "        \n",
    "        return size\n",
    "\n",
    "    # here we'll iterate through all directories, calculating sizes for part 1\n",
    "    part1_ans = 0\n",
    "    def part1(files):\n",
    "        global part1_ans\n",
    "        for k in files:\n",
    "            if type(files[k]) == dict:\n",
    "                part1(files[k])\n",
    "                s = get_dir_size(files[k])\n",
    "                if s <= 100000:\n",
    "                    part1_ans += s\n",
    "\n",
    "    # the answer to part 1\n",
    "    part1(files)\n",
    "    print(f'Day 7 Part 1 Answer: {part1_ans}')\n",
    "\n",
    "    # now for part 2\n",
    "    additional_space_needed = get_dir_size(files) - 40000000\n",
    "    dir_sizes = [get_dir_size(files)]\n",
    "    \n",
    "    def part2(files):\n",
    "        global dir_sizes\n",
    "        for k in files:\n",
    "            if type(files[k]) == dict:\n",
    "                dir_sizes.append(get_dir_size(files[k]))\n",
    "                part2(files[k])\n",
    "\n",
    "    part2(files)\n",
    "    for s in sorted(dir_sizes):\n",
    "        if s > additional_space_needed:\n",
    "            print(f'Day 7 Part 2 Answer: {s}')\n",
    "            break"
   ]
  },
  {
   "cell_type": "code",
   "execution_count": null,
   "metadata": {},
   "outputs": [],
   "source": []
  }
 ],
 "metadata": {
  "kernelspec": {
   "display_name": "Python 3.7.4 ('base')",
   "language": "python",
   "name": "python3"
  },
  "language_info": {
   "codemirror_mode": {
    "name": "ipython",
    "version": 3
   },
   "file_extension": ".py",
   "mimetype": "text/x-python",
   "name": "python",
   "nbconvert_exporter": "python",
   "pygments_lexer": "ipython3",
   "version": "3.7.4"
  },
  "orig_nbformat": 4,
  "vscode": {
   "interpreter": {
    "hash": "18d1d3ba97577ef9370b2a90079ae3bfd326b2837f9027163a6623b63a7aa69b"
   }
  }
 },
 "nbformat": 4,
 "nbformat_minor": 2
}
