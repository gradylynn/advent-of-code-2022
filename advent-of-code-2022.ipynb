{
 "cells": [
  {
   "cell_type": "markdown",
   "metadata": {},
   "source": [
    "Day 1 (https://adventofcode.com/2022/day/1)"
   ]
  },
  {
   "cell_type": "code",
   "execution_count": 1,
   "metadata": {},
   "outputs": [
    {
     "name": "stdout",
     "output_type": "stream",
     "text": [
      "Day 1 Part 1 Answer: 69836\n",
      "Day 1 Part 2 Answer: 207968\n"
     ]
    }
   ],
   "source": [
    "with open('inputs/day1.txt', 'r') as f:\n",
    "    # a list of the number of calories carried by each elf\n",
    "    l = [sum([int(n) for n in s.split('\\n')]) for s in f.read().split('\\n\\n')]\n",
    "\n",
    "    # the answer to part 1\n",
    "    print(f'Day 1 Part 1 Answer: {max(l)}')\n",
    "\n",
    "    # the answer to part 2\n",
    "    print(f'Day 1 Part 2 Answer: {sum(sorted(l)[-3:])}')"
   ]
  },
  {
   "cell_type": "code",
   "execution_count": null,
   "metadata": {},
   "outputs": [],
   "source": []
  }
 ],
 "metadata": {
  "kernelspec": {
   "display_name": "Python 3.8.8 ('base')",
   "language": "python",
   "name": "python3"
  },
  "language_info": {
   "codemirror_mode": {
    "name": "ipython",
    "version": 3
   },
   "file_extension": ".py",
   "mimetype": "text/x-python",
   "name": "python",
   "nbconvert_exporter": "python",
   "pygments_lexer": "ipython3",
   "version": "3.8.8"
  },
  "orig_nbformat": 4,
  "vscode": {
   "interpreter": {
    "hash": "40d3a090f54c6569ab1632332b64b2c03c39dcf918b08424e98f38b5ae0af88f"
   }
  }
 },
 "nbformat": 4,
 "nbformat_minor": 2
}
